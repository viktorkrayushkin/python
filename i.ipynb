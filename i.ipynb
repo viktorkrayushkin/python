import matplotlib.pyplot as plt
import pandas as pd
import numpy as np

# Функция для создания "пилы" с заданной длиной волны и длиной сегмента
def sawtooth_wave(length, wave_length):
    x = np.linspace(0, length, num=int(length * 100))  # Увеличиваем разрешение
    return np.piecewise(x, [x < wave_length / 2, x >= wave_length / 2],
                        [lambda x: (2/wave_length) * x, lambda x: (-2/wave_length) * x + 2]), x

# Функция для добавления скважности между "пилами"
def add_duty_gap(y_arr, x_arr, gap_length):
    gap_x = np.linspace(x_arr[-1], x_arr[-1] + gap_length, num=int(gap_length * 100))
    gap_y = np.zeros_like(gap_x)
    return np.concatenate([y_arr, gap_y]), np.concatenate([x_arr, gap_x])

# Генерация трех "пил" разной длины с добавлением скважности между ними
y1, x1 = sawtooth_wave(300, 300)  # Пила длиной 300 мкс
y1, x1 = add_duty_gap(y1, x1, 100)  # Добавляем скважность 100 мкс

y2, x2 = sawtooth_wave(500, 500)  # Пила длиной 500 мкс
x2 += x1[-1]  # Сдвигаем начало второй пилы
y2, x2 = add_duty_gap(y2, x2, 100)  # Добавляем скважность 100 мкс

y3, x3 = sawtooth_wave(700, 700)  # Пила длиной 700 мкс
x3 += x2[-1]  # Сдвигаем начало третьей пилы
# Скважность после третьей пилы добавлять не нужно, если это конец последовательности

# Объединение массивов данных для X и Y
x_combined = np.concatenate([x1, x2, x3])
y_combined = np.concatenate([y1, y2, y3])

# Построение графика
plt.figure(figsize=(20, 5))  # Установка размера фигуры
plt.plot(x_combined, y_combined)  # Построение объединенного графика

# Настройка меток осей
plt.xlabel('Время (мкс)')
plt.ylabel('Ток (мкА)')

# Настройка сетки
plt.grid(True)

# Показать график
plt.show()
# Предполагаем, что x_combined и y_combined уже определены
# Создаем DataFrame с изначальным порядком столбцов
data = {'Ток (мкА)': y_combined, 'Время (мкс)': x_combined}  # Меняем местами при создании
df = pd.DataFrame(data)

# Альтернативный способ, если DataFrame уже создан:
# df = df[['Ток (мкА)', 'Время (мкс)']]

# Сохраняем данные в текстовый файл, используя табуляцию как разделитель
df.to_csv('data.txt', sep='\t', index=False)

